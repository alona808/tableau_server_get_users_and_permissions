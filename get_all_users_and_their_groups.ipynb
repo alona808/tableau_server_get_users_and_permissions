{
 "cells": [
  {
   "attachments": {},
   "cell_type": "markdown",
   "id": "62bfd612-cdff-40b7-99cc-e419fcf2d39d",
   "metadata": {},
   "source": [
    "## Imports"
   ]
  },
  {
   "cell_type": "code",
   "execution_count": 1,
   "id": "4dd47354-9dae-40d2-9f60-fd4088f547bc",
   "metadata": {},
   "outputs": [],
   "source": [
    "import sys\n",
    "import pandas as pd\n",
    "from datetime import date\n",
    "\n",
    "# Tableau API connection\n",
    "import tableauserverclient as TSC\n",
    "\n",
    "# SQL server connection\n",
    "from sqlalchemy import create_engine\n",
    "\n",
    "from helpers import helpers_tableauserver as ts\n",
    "from helpers import helpers_general as hg"
   ]
  },
  {
   "attachments": {},
   "cell_type": "markdown",
   "id": "a453a7a0",
   "metadata": {},
   "source": [
    "*Some additional settings*"
   ]
  },
  {
   "cell_type": "code",
   "execution_count": null,
   "id": "b6aa1d3d-c3f8-4b85-84a4-0fe574df0bd4",
   "metadata": {},
   "outputs": [],
   "source": [
    "# to show warning only once\n",
    "import warnings; warnings.filterwarnings(action='once')\n",
    "\n",
    "# to avoid warnings (if necessary)\n",
    "if not sys.warnoptions:\n",
    "    warnings.simplefilter('ignore')\n",
    "    \n",
    "# to print all the outputs in the cell\n",
    "from IPython.core.interactiveshell import InteractiveShell\n",
    "InteractiveShell.ast_node_interactivity = 'all'"
   ]
  },
  {
   "attachments": {},
   "cell_type": "markdown",
   "id": "1f56b6ef-b400-40d8-af14-5669ac9dbc72",
   "metadata": {},
   "source": [
    "## Global parameters"
   ]
  },
  {
   "attachments": {},
   "cell_type": "markdown",
   "id": "e1ba9cf3",
   "metadata": {},
   "source": [
    "***NB! Change Global parameters below with your credentials!***"
   ]
  },
  {
   "attachments": {},
   "cell_type": "markdown",
   "id": "879f8ba0",
   "metadata": {},
   "source": [
    "### Tableau Development environment parameters"
   ]
  },
  {
   "cell_type": "code",
   "execution_count": null,
   "id": "8c1455d6-2b12-42d6-bfab-ca53020bf2e4",
   "metadata": {},
   "outputs": [],
   "source": [
    "server_url_dev = 'https://your_dev__server.tableau.example.com'    \n",
    "token_name_dev = 'token_tableau_all_sites_dev'\n",
    "token_value_dev = 'paste_token_value_dev'\n",
    "site_name_dev = 'Default'  # any Site could be selected to start"
   ]
  },
  {
   "attachments": {},
   "cell_type": "markdown",
   "id": "bf261371",
   "metadata": {},
   "source": [
    "### Tableau Production environment parameters"
   ]
  },
  {
   "cell_type": "code",
   "execution_count": null,
   "id": "c715f368",
   "metadata": {},
   "outputs": [],
   "source": [
    "server_url_prod = 'https://your_prod__server.tableau.example.com'    \n",
    "token_name_prod = 'token_tableau_all_sites_prod'\n",
    "token_value_prod = 'paste_token_value_prod'\n",
    "site_name_prod = 'Default'  # any Site could be selected to start"
   ]
  },
  {
   "attachments": {},
   "cell_type": "markdown",
   "id": "37b3dcb0",
   "metadata": {},
   "source": [
    "### Parameters to store data from Tableau servers"
   ]
  },
  {
   "attachments": {},
   "cell_type": "markdown",
   "id": "a0b03837",
   "metadata": {},
   "source": [
    "*The data will be stored in a directory called `tableau_server_data` in the current working directory in Excel format*"
   ]
  },
  {
   "cell_type": "code",
   "execution_count": null,
   "id": "32ac345b",
   "metadata": {},
   "outputs": [],
   "source": [
    "file_path_excel_all_users = './tableau_server_data/tableau_server_users_groups.xlsx'\n",
    "sheet_name_all_users = 'all_tableau_users_and_groups'\n",
    "\n",
    "file_path_excel_users_compared = './tableau_server_data/comparison_licensed_users_on_servers.xlsx'\n",
    "sheet_name_compared_users = 'comparison_users_on_servers'"
   ]
  },
  {
   "attachments": {},
   "cell_type": "markdown",
   "id": "932ed1b5",
   "metadata": {},
   "source": [
    "*Also data will be daily collected in the CSV file and stored in the same directory.*"
   ]
  },
  {
   "cell_type": "code",
   "execution_count": null,
   "id": "8df2ea1d",
   "metadata": {},
   "outputs": [],
   "source": [
    "file_path_local = './tableau_server_data/all_tableau_users_group.csv'"
   ]
  },
  {
   "attachments": {},
   "cell_type": "markdown",
   "id": "4ee77772",
   "metadata": {},
   "source": [
    "*Additionally, the data will be stored in a Microsoft SQL Server database.*"
   ]
  },
  {
   "cell_type": "code",
   "execution_count": null,
   "id": "8f18aa3e",
   "metadata": {},
   "outputs": [],
   "source": [
    "server_sql = 'server_sql'\n",
    "database = 'TEMP' \n",
    "schema_ref = 'dbo'\n",
    "username = 'database_username'  \n",
    "password = 'database_password'\n",
    "table_ref = 'all_tableau_users_group'"
   ]
  },
  {
   "attachments": {},
   "cell_type": "markdown",
   "id": "a7aeea50-6f2b-45c9-9204-ec3e1d5f30df",
   "metadata": {
    "tags": []
   },
   "source": [
    "## Get users and their groups from Tableau Development server"
   ]
  },
  {
   "attachments": {},
   "cell_type": "markdown",
   "id": "cbc15be0-3951-419b-8c57-483b6761864e",
   "metadata": {},
   "source": [
    "### Open development server connection"
   ]
  },
  {
   "cell_type": "code",
   "execution_count": null,
   "id": "c07ea521-7e1c-43ff-ba63-0ae65088b711",
   "metadata": {},
   "outputs": [],
   "source": [
    "server = ts.connect_to_server_site(server_url_dev, token_name_dev, token_value_dev, site_name_dev)"
   ]
  },
  {
   "attachments": {},
   "cell_type": "markdown",
   "id": "3ed9ae29-0313-45ae-943d-860c1acd1c2e",
   "metadata": {},
   "source": [
    "### Get users from all the server sites"
   ]
  },
  {
   "cell_type": "code",
   "execution_count": null,
   "id": "583cbcda-0fab-4b9c-90c1-5bf1941cf546",
   "metadata": {},
   "outputs": [],
   "source": [
    "df_users_dev = ts.get_all_server_users(server)"
   ]
  },
  {
   "attachments": {},
   "cell_type": "markdown",
   "id": "d2a12229",
   "metadata": {},
   "source": [
    "*Do some explorarory of our Tableau server users*"
   ]
  },
  {
   "cell_type": "code",
   "execution_count": null,
   "id": "1332b0e9-4f8d-4a46-b555-7cef7188d8a3",
   "metadata": {},
   "outputs": [],
   "source": [
    "df_users_dev.info()\n",
    "df_users_dev.head()\n",
    "df_users_dev.sample(10)"
   ]
  },
  {
   "attachments": {},
   "cell_type": "markdown",
   "id": "0ac0a5bb-a61a-46e2-9101-1fe92e3dfcfc",
   "metadata": {},
   "source": [
    "### Get tableau server groups"
   ]
  },
  {
   "cell_type": "code",
   "execution_count": null,
   "id": "64aeaba2-aacf-4873-8348-ca5dbc634c98",
   "metadata": {},
   "outputs": [],
   "source": [
    "df_groups_dev = ts.get_all_server_groups(server)"
   ]
  },
  {
   "attachments": {},
   "cell_type": "markdown",
   "id": "c8964e41",
   "metadata": {},
   "source": [
    "*Do some explorarory of our Tableau server groups and users belonging to those groups*"
   ]
  },
  {
   "cell_type": "code",
   "execution_count": null,
   "id": "da4abe9d-b8b1-46e3-9c58-2a34b22588d9",
   "metadata": {},
   "outputs": [],
   "source": [
    "df_groups_dev.info()\n",
    "df_groups_dev.head()\n",
    "df_groups_dev.sample(10)"
   ]
  },
  {
   "attachments": {},
   "cell_type": "markdown",
   "id": "d1eea9c2-dcf6-4dbd-83a3-de96e25ca64f",
   "metadata": {},
   "source": [
    "### All users & thier groups on Tableau DEVELOPMENT server"
   ]
  },
  {
   "cell_type": "code",
   "execution_count": null,
   "id": "bbcab3ef-81d8-4d44-a327-394540038272",
   "metadata": {},
   "outputs": [],
   "source": [
    "col_to_use = df_users_dev.columns.difference(df_groups_dev)\n",
    "\n",
    "df_all_users_groups_dev = (pd.merge(\n",
    "    df_groups_dev, df_users_dev[col_to_use], how='left', on=['user_name_ad', 'user_tableau_id', 'site_name'])\n",
    ")"
   ]
  },
  {
   "attachments": {},
   "cell_type": "markdown",
   "id": "bf638b28",
   "metadata": {},
   "source": [
    "*Additional useful information should be added to the DataFrame*"
   ]
  },
  {
   "cell_type": "code",
   "execution_count": null,
   "id": "36a4f68f-670f-4648-a31d-a3dada1b84c5",
   "metadata": {},
   "outputs": [],
   "source": [
    "df_all_users_groups_dev['tableau_server_type'] = 'dev'\n",
    "df_all_users_groups_dev['tableau_server_url'] = server_url_dev"
   ]
  },
  {
   "attachments": {},
   "cell_type": "markdown",
   "id": "a6b254b2-c0e7-48e1-8116-83c234831208",
   "metadata": {},
   "source": [
    "### Close Tableau DEVELOPMENT server connection"
   ]
  },
  {
   "cell_type": "code",
   "execution_count": null,
   "id": "8fd19096-0757-4afe-9e75-65011b8f4192",
   "metadata": {},
   "outputs": [],
   "source": [
    "ts.sign_out_from_server(server)"
   ]
  },
  {
   "attachments": {},
   "cell_type": "markdown",
   "id": "cf2f3f84-7f26-40ba-b442-36faf9e882cb",
   "metadata": {},
   "source": [
    "## Get users and their groups from Tableau Production server"
   ]
  },
  {
   "cell_type": "code",
   "execution_count": null,
   "id": "3019e305-1aab-4b36-81e3-df28e8de0d09",
   "metadata": {},
   "outputs": [],
   "source": [
    "server = ts.connect_to_server_site(server_url_prod, token_name_prod, token_value_prod, site_name_prod)"
   ]
  },
  {
   "attachments": {},
   "cell_type": "markdown",
   "id": "4536b6a7-0d14-4bba-ae2b-1ec203fe81a3",
   "metadata": {},
   "source": [
    "### Get users from all the production server sites"
   ]
  },
  {
   "cell_type": "code",
   "execution_count": null,
   "id": "5b9417df-fe5e-419d-98fe-a190c427eb82",
   "metadata": {},
   "outputs": [],
   "source": [
    "df_users_prod = ts.get_all_server_users(server)"
   ]
  },
  {
   "attachments": {},
   "cell_type": "markdown",
   "id": "87c9b25d-6af7-4324-9bb9-7793b75d2070",
   "metadata": {},
   "source": [
    "### Get server groups"
   ]
  },
  {
   "cell_type": "code",
   "execution_count": null,
   "id": "70c0cc0b-75b2-4ca4-9d63-213cf160ad0a",
   "metadata": {},
   "outputs": [],
   "source": [
    "df_groups_prod = ts.get_all_server_groups(server)"
   ]
  },
  {
   "attachments": {},
   "cell_type": "markdown",
   "id": "3de5d5be-870a-45d0-a393-2e997b67bc10",
   "metadata": {},
   "source": [
    "### All users & thier groups on Tableau PRODUCTION server"
   ]
  },
  {
   "cell_type": "code",
   "execution_count": null,
   "id": "5aeb6104-4ccc-4414-9d43-8247d31e771c",
   "metadata": {},
   "outputs": [],
   "source": [
    "col_to_use = df_users_prod.columns.difference(df_groups_prod)\n",
    "df_all_users_groups_prod = (pd.merge(df_groups_prod, df_users_prod[col_to_use], how='left', on=['user_name_ad', 'user_tableau_id', 'site_name']))"
   ]
  },
  {
   "attachments": {},
   "cell_type": "markdown",
   "id": "45d030ab",
   "metadata": {},
   "source": [
    "*Additional useful information should be added to the DataFrame of useers and their groups on the production Tableau server*"
   ]
  },
  {
   "cell_type": "code",
   "execution_count": null,
   "id": "48c8b047-c39e-4773-8598-cc4497d97291",
   "metadata": {},
   "outputs": [],
   "source": [
    "df_all_users_groups_prod['tableau_server_type'] = 'prod'\n",
    "df_all_users_groups_prod['tableau_server_url'] = server_url_prod"
   ]
  },
  {
   "attachments": {},
   "cell_type": "markdown",
   "id": "3392665a-bb81-4f89-8057-7f3ade5eddc1",
   "metadata": {},
   "source": [
    "### Close Tableau PRODUCTION server connection"
   ]
  },
  {
   "cell_type": "code",
   "execution_count": null,
   "id": "3c1d13a1-3786-4852-b8e8-b148ba3f46bd",
   "metadata": {},
   "outputs": [],
   "source": [
    "ts.sign_out_from_server(server)"
   ]
  },
  {
   "attachments": {},
   "cell_type": "markdown",
   "id": "8a321d24-89fe-4780-8c45-e515bfcc84d3",
   "metadata": {},
   "source": [
    "### Appending DataFrames"
   ]
  },
  {
   "cell_type": "code",
   "execution_count": null,
   "id": "bc2a6e7c-8bec-4dae-a336-067579404f5c",
   "metadata": {},
   "outputs": [],
   "source": [
    "df_all_users_groups = df_all_users_groups_dev.append(df_all_users_groups_prod, ignore_index=True)\n",
    "df_all_users_groups.sample(15)"
   ]
  },
  {
   "attachments": {},
   "cell_type": "markdown",
   "id": "2d7ee11b-69fb-417d-938f-d62c3826309e",
   "metadata": {},
   "source": [
    "### Do quick EDA and Data preprocessing"
   ]
  },
  {
   "cell_type": "code",
   "execution_count": null,
   "id": "673f9cc0-b6fc-40bd-8193-0b7e4a219da6",
   "metadata": {},
   "outputs": [],
   "source": [
    "df_all_users_groups.shape\n",
    "df_all_users_groups.info()\n",
    "df_all_users_groups.isna().mean()\n",
    "df_all_users_groups.duplicated().sum()"
   ]
  },
  {
   "attachments": {},
   "cell_type": "markdown",
   "id": "78bd546c-e539-4be1-8e29-9e1858d5d298",
   "metadata": {},
   "source": [
    "*Filling some NaNs*"
   ]
  },
  {
   "cell_type": "code",
   "execution_count": null,
   "id": "9eeec8e1-37e5-4390-b9a4-fbefdd175ec1",
   "metadata": {},
   "outputs": [],
   "source": [
    "df_all_users_groups['group_min_site_role'].fillna('Undefined',inplace=True)\n",
    "\n",
    "# Fill in missing values with some strange dates\n",
    "df_all_users_groups['last_login'].fillna('1900-01-01', inplace=True)\n",
    "\n",
    "# validate the results\n",
    "df_all_users_groups.isna().mean()"
   ]
  },
  {
   "attachments": {},
   "cell_type": "markdown",
   "id": "2883a232-877e-4ae4-9f07-75fa58471d24",
   "metadata": {},
   "source": [
    "*Changing data types*"
   ]
  },
  {
   "cell_type": "code",
   "execution_count": null,
   "id": "f51bf1fc-5111-4624-95ff-5f46ca8721bb",
   "metadata": {},
   "outputs": [],
   "source": [
    "df_all_users_groups['last_login'] = df_all_users_groups['last_login'].astype('datetime64[ns]')"
   ]
  },
  {
   "attachments": {},
   "cell_type": "markdown",
   "id": "9af99ae5",
   "metadata": {},
   "source": [
    "*Adding current date*"
   ]
  },
  {
   "cell_type": "code",
   "execution_count": null,
   "id": "bc89c863-d607-42d2-b045-28994f748226",
   "metadata": {},
   "outputs": [],
   "source": [
    "df_all_users_groups['update_date'] = date.today()"
   ]
  },
  {
   "attachments": {},
   "cell_type": "markdown",
   "id": "3658c849-dc2b-4e39-8be6-5eb0e88b81a9",
   "metadata": {},
   "source": [
    "### Compare users on 2 servers"
   ]
  },
  {
   "attachments": {},
   "cell_type": "markdown",
   "id": "8e262128",
   "metadata": {},
   "source": [
    "*In my case, there are users who are represented only on one of the servers and are absent on the other.*\n",
    "\n",
    "*To manage licensing, we need to know who these users are. For this purpose a new DataFrame will be created.*"
   ]
  },
  {
   "cell_type": "code",
   "execution_count": null,
   "id": "a58615ef-cd77-4da7-86ce-eef863161ee2",
   "metadata": {},
   "outputs": [],
   "source": [
    "df_licensed_users_dev = df_all_users_groups_dev[df_all_users_groups['site_role'] != 'Unlicensed'][[\n",
    "       'user_name_ad', 'full_name', 'tableau_server_type']]"
   ]
  },
  {
   "cell_type": "code",
   "execution_count": null,
   "id": "08b2c9d0-bdfc-414e-b416-d5b0fccc1b82",
   "metadata": {},
   "outputs": [],
   "source": [
    "df_licensed_users_prod = df_all_users_groups_prod[df_all_users_groups_prod['site_role'] != 'Unlicensed'][[\n",
    "       'user_name_ad', 'full_name', 'tableau_server_type']]"
   ]
  },
  {
   "cell_type": "code",
   "execution_count": null,
   "id": "2521d370-b1d6-4b22-bcdb-f07ba2a12b18",
   "metadata": {},
   "outputs": [],
   "source": [
    "df_compared_users_on_servers = df_licensed_users_dev.merge(df_licensed_users_prod, on=['user_name_ad', 'full_name'], how='outer').drop_duplicates().reset_index()"
   ]
  },
  {
   "cell_type": "code",
   "execution_count": null,
   "id": "178595e2-b69c-4b13-9f31-812a9b99e08e",
   "metadata": {},
   "outputs": [],
   "source": [
    "df_compared_users_on_servers.rename(columns={'tableau_server_type_x': 'is_exists_on_dev', 'tableau_server_type_y': 'is_exists_on_prod'}, inplace=True)"
   ]
  },
  {
   "cell_type": "code",
   "execution_count": null,
   "id": "6d82bd8b-c76b-4607-965f-44d5ed6c4997",
   "metadata": {},
   "outputs": [],
   "source": [
    "df_compared_users_on_servers['is_exists_on_dev'].fillna('No', inplace=True)\n",
    "df_compared_users_on_servers['is_exists_on_prod'].fillna('No', inplace=True)"
   ]
  },
  {
   "cell_type": "code",
   "execution_count": null,
   "id": "3dcd8958-ec52-47de-b235-28b4b9740bac",
   "metadata": {},
   "outputs": [],
   "source": [
    "df_compared_users_on_servers['update_date'] = date.today()"
   ]
  },
  {
   "attachments": {},
   "cell_type": "markdown",
   "id": "4fa3fe29-0af6-4a11-8450-173826260615",
   "metadata": {
    "tags": []
   },
   "source": [
    "## Store data to Excel, CSV file, and to SQL database"
   ]
  },
  {
   "attachments": {},
   "cell_type": "markdown",
   "id": "8c07c290-8502-4566-8bdc-f7deb91afbc5",
   "metadata": {},
   "source": [
    "*Write to Excel file all Tableau server users and their groups*"
   ]
  },
  {
   "cell_type": "code",
   "execution_count": null,
   "id": "9d05ee1c-3b95-417a-b8d0-57421909ae37",
   "metadata": {},
   "outputs": [],
   "source": [
    "hg.write_to_excel(df_all_users_groups, file_path_excel_all_users, sheet_name_all_users)"
   ]
  },
  {
   "attachments": {},
   "cell_type": "markdown",
   "id": "012337da",
   "metadata": {},
   "source": [
    "*Write to an Excel DataFrame file comparing existing users on 2 servers*"
   ]
  },
  {
   "cell_type": "code",
   "execution_count": null,
   "id": "8806aa88",
   "metadata": {},
   "outputs": [],
   "source": [
    "\n",
    "hg.write_to_excel(df_compared_users_on_servers, file_path_excel_users_compared, sheet_name_compared_users)"
   ]
  },
  {
   "attachments": {},
   "cell_type": "markdown",
   "id": "36818739-c37e-4408-843b-1141c58490c2",
   "metadata": {},
   "source": [
    "*Append data to CSV file*"
   ]
  },
  {
   "cell_type": "code",
   "execution_count": null,
   "id": "a840fd19-1b25-4748-98ec-f598856b8234",
   "metadata": {},
   "outputs": [],
   "source": [
    "hg.append_df_to_csv(df_all_users_groups, file_path_local)"
   ]
  },
  {
   "cell_type": "code",
   "execution_count": null,
   "id": "a12533b5-733c-4d23-b7c6-d4e7c887c9db",
   "metadata": {},
   "outputs": [],
   "source": [
    "# check that's rows are appended\n",
    "pd.read_csv('./tableau_server_data/all_tableau_users_group.csv').shape"
   ]
  },
  {
   "attachments": {},
   "cell_type": "markdown",
   "id": "0805dad2-75de-4d35-a88e-de1db6c29a6d",
   "metadata": {},
   "source": [
    "*Write DataFrame to Microsoft SQL Server table*"
   ]
  },
  {
   "attachments": {},
   "cell_type": "markdown",
   "id": "18d2d67b-05cf-46a2-8ac5-93197ba7cfd3",
   "metadata": {},
   "source": [
    "*- DB connection*"
   ]
  },
  {
   "cell_type": "code",
   "execution_count": null,
   "id": "c727e5eb-cf0a-4593-86a3-80d3fcef72b0",
   "metadata": {},
   "outputs": [],
   "source": [
    "conn_str = f'mssql+pyodbc://{username}:{password}@{server_sql}/{database}?driver=ODBC+Driver+17+for+SQL+Server'\n",
    "engine = create_engine(conn_str)"
   ]
  },
  {
   "cell_type": "code",
   "execution_count": null,
   "id": "5a13c29b-e693-4938-a4f9-1b2e057a6543",
   "metadata": {},
   "outputs": [],
   "source": [
    "hg.write_df_to_sql(engine, df_all_users_groups, table_ref)"
   ]
  },
  {
   "attachments": {},
   "cell_type": "markdown",
   "id": "f2a19c99-5d21-4c6e-89ed-5764d92efbba",
   "metadata": {},
   "source": [
    "*- Confirm that data in the database*"
   ]
  },
  {
   "cell_type": "code",
   "execution_count": null,
   "id": "ec249592-f8a1-406a-b39e-dcde30aaf1a4",
   "metadata": {},
   "outputs": [],
   "source": [
    "df_all_users_groups.shape"
   ]
  },
  {
   "cell_type": "code",
   "execution_count": null,
   "id": "751cdc00-09ba-44a3-a6ac-06ab5252e000",
   "metadata": {},
   "outputs": [],
   "source": [
    "%%time\n",
    "query = f'SELECT COUNT (1) FROM {schema_ref}.{table_ref}'\n",
    "_tmp = pd.read_sql(query, engine)\n",
    "_tmp"
   ]
  },
  {
   "cell_type": "code",
   "execution_count": null,
   "id": "48bf1864-c728-4e44-95fd-350800cf3449",
   "metadata": {},
   "outputs": [],
   "source": [
    "query = f'SELECT TOP (5) * FROM {schema_ref}.{table_ref}'\n",
    "_tmp = pd.read_sql(query, engine)\n",
    "_tmp"
   ]
  }
 ],
 "metadata": {
  "kernelspec": {
   "display_name": "Python 3 (ipykernel)",
   "language": "python",
   "name": "python3"
  },
  "language_info": {
   "codemirror_mode": {
    "name": "ipython",
    "version": 3
   },
   "file_extension": ".py",
   "mimetype": "text/x-python",
   "name": "python",
   "nbconvert_exporter": "python",
   "pygments_lexer": "ipython3",
   "version": "3.9.16"
  }
 },
 "nbformat": 4,
 "nbformat_minor": 5
}
