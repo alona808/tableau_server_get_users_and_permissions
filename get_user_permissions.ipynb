{
 "cells": [
  {
   "attachments": {},
   "cell_type": "markdown",
   "id": "50b0655b-0fe1-498e-8e5c-badfd2d43c89",
   "metadata": {},
   "source": [
    "## Imports"
   ]
  },
  {
   "cell_type": "code",
   "execution_count": null,
   "id": "9b1d7eea-ee1b-43b7-b747-94fe3b05b106",
   "metadata": {},
   "outputs": [],
   "source": [
    "import sys\n",
    "import pandas as pd\n",
    "\n",
    "# Tableau API connection\n",
    "import tableauserverclient as TSC\n",
    "\n",
    "# SQL server connection\n",
    "import pyodbc\n",
    "from sqlalchemy import create_engine\n",
    "from datetime import date\n",
    "\n",
    "from helpers import helpers_tableauserver as ts\n",
    "from helpers import helpers_general as hg"
   ]
  },
  {
   "attachments": {},
   "cell_type": "markdown",
   "id": "5a9c55cd",
   "metadata": {},
   "source": [
    "*Some additional settings*"
   ]
  },
  {
   "cell_type": "code",
   "execution_count": null,
   "id": "ebf1dd20-deee-42aa-9527-671b60444dfa",
   "metadata": {},
   "outputs": [],
   "source": [
    "# to show warning only once\n",
    "import warnings; warnings.filterwarnings(action='once')\n",
    "\n",
    "# to avoid warnings (if necessary)\n",
    "if not sys.warnoptions:\n",
    "    warnings.simplefilter('ignore')\n",
    "    \n",
    "# to print all the outputs in the cell\n",
    "from IPython.core.interactiveshell import InteractiveShell\n",
    "InteractiveShell.ast_node_interactivity = 'all'"
   ]
  },
  {
   "attachments": {},
   "cell_type": "markdown",
   "id": "f14bd198-1fb8-472b-a1f8-ec9b5a2ecc64",
   "metadata": {},
   "source": [
    "## Global parameters"
   ]
  },
  {
   "attachments": {},
   "cell_type": "markdown",
   "id": "6a98941b",
   "metadata": {},
   "source": [
    "***NB! change Global parameters below with your credentials!***"
   ]
  },
  {
   "attachments": {},
   "cell_type": "markdown",
   "id": "4e799c77",
   "metadata": {},
   "source": [
    "### Tableau Development environment parameters"
   ]
  },
  {
   "cell_type": "code",
   "execution_count": null,
   "id": "73bc812e-9271-4a64-9857-3f95e779f145",
   "metadata": {},
   "outputs": [],
   "source": [
    "server_url_dev = 'https://your_dev__server.tableau.example.com'    \n",
    "token_name_dev = 'token_tableau_all_sites_dev'\n",
    "token_value_dev = 'paste_token_value_dev'\n",
    "site_name_dev = 'Default'  # any site name could be selected to start"
   ]
  },
  {
   "attachments": {},
   "cell_type": "markdown",
   "id": "db58aab8",
   "metadata": {},
   "source": [
    "### Tableau Production environment parameters"
   ]
  },
  {
   "cell_type": "code",
   "execution_count": null,
   "id": "3bff4266",
   "metadata": {},
   "outputs": [],
   "source": [
    "server_url_prod = 'https://your_prod__server.tableau.example.com'    \n",
    "token_name_prod = 'token_tableau_all_sites_prod'\n",
    "token_value_prod = 'paste_token_value_prod'\n",
    "site_name_prod = 'Default'  # any site name could be selected to start"
   ]
  },
  {
   "attachments": {},
   "cell_type": "markdown",
   "id": "9eafd750",
   "metadata": {},
   "source": [
    "### Parameters to store data from Tableau servers"
   ]
  },
  {
   "attachments": {},
   "cell_type": "markdown",
   "id": "acd64154",
   "metadata": {},
   "source": [
    "*The data will be stored in a directory called `tableau_server_data` in the current working directory in Excel format*"
   ]
  },
  {
   "cell_type": "code",
   "execution_count": null,
   "id": "9e3af450",
   "metadata": {},
   "outputs": [],
   "source": [
    "file_path_excel_permissions = './tableau_server_data/tableau_permissions_per_project.xlsx'\n",
    "sheet_name = 'permissions_per_project'"
   ]
  },
  {
   "attachments": {},
   "cell_type": "markdown",
   "id": "93df9178",
   "metadata": {},
   "source": [
    "*Additionally, the data will be stored in a Microsoft SQL server database.*"
   ]
  },
  {
   "cell_type": "code",
   "execution_count": null,
   "id": "320c9295",
   "metadata": {},
   "outputs": [],
   "source": [
    "server_sql = 'server_sql'\n",
    "database = 'TEMP' \n",
    "schema_ref = 'dbo'\n",
    "username = 'database_username'  \n",
    "password = 'database_password'\n",
    "table_permissions = 'permissions_per_project'"
   ]
  },
  {
   "attachments": {},
   "cell_type": "markdown",
   "id": "e6dda634-d697-4835-bdae-e291f2945acf",
   "metadata": {},
   "source": [
    "## Tableau development server - Get user's and group's permissions"
   ]
  },
  {
   "attachments": {},
   "cell_type": "markdown",
   "id": "63ab7d6e-2324-471a-b320-458569c689c6",
   "metadata": {},
   "source": [
    "### Open connection"
   ]
  },
  {
   "cell_type": "code",
   "execution_count": null,
   "id": "cbf49303-e240-47f5-a07c-04b02e7ae55f",
   "metadata": {},
   "outputs": [],
   "source": [
    "server = ts.connect_to_server_site(server_url_dev, token_name_dev, token_value_dev, site_name_dev)"
   ]
  },
  {
   "attachments": {},
   "cell_type": "markdown",
   "id": "6d8ad054",
   "metadata": {},
   "source": [
    "*Get all permissions per project*"
   ]
  },
  {
   "cell_type": "code",
   "execution_count": null,
   "id": "3cd21b60-7f9b-4bf6-adb2-0c118dcb6a00",
   "metadata": {},
   "outputs": [],
   "source": [
    "df_permissions_dev = ts.get_all_server_permissions(server)"
   ]
  },
  {
   "attachments": {},
   "cell_type": "markdown",
   "id": "1f87d148",
   "metadata": {},
   "source": [
    "*Adding some information to the DataFrame*"
   ]
  },
  {
   "cell_type": "code",
   "execution_count": null,
   "id": "9de8afb9-6922-47e4-9b6c-2972e18d3f4f",
   "metadata": {},
   "outputs": [],
   "source": [
    "df_permissions_dev['tableau_server_type'] = 'dev'\n",
    "df_permissions_dev['tableau_server_url'] = server_url_dev"
   ]
  },
  {
   "attachments": {},
   "cell_type": "markdown",
   "id": "fd081ccd-5efa-4d68-bcde-d650c60e4ee7",
   "metadata": {},
   "source": [
    "### Close Tableau development server connection"
   ]
  },
  {
   "cell_type": "code",
   "execution_count": null,
   "id": "0070dd30-7940-4c79-835f-22987b9f9960",
   "metadata": {},
   "outputs": [],
   "source": [
    "ts.sign_out_from_server(server)"
   ]
  },
  {
   "attachments": {},
   "cell_type": "markdown",
   "id": "cdded59b-dbe9-4fbe-aa1f-dc13c117c7c0",
   "metadata": {},
   "source": [
    "### Do some EDA"
   ]
  },
  {
   "cell_type": "code",
   "execution_count": null,
   "id": "bd46b91a-9795-47aa-98c1-ddbb9dd0128d",
   "metadata": {},
   "outputs": [],
   "source": [
    "df_permissions_dev.shape\n",
    "df_permissions_dev.info()\n",
    "df_permissions_dev.sample(10)"
   ]
  },
  {
   "attachments": {},
   "cell_type": "markdown",
   "id": "c1cb039c-7905-451f-a7af-6c6f0b24b18b",
   "metadata": {},
   "source": [
    "## Tableau production server - Get user's and group's permissions"
   ]
  },
  {
   "cell_type": "code",
   "execution_count": null,
   "id": "84fecb05-fe4b-47d8-b94d-61f35c6b3dd1",
   "metadata": {},
   "outputs": [],
   "source": [
    "server = ts.connect_to_server_site(server_url_prod, token_name_prod, token_value_prod, site_name_prod)"
   ]
  },
  {
   "attachments": {},
   "cell_type": "markdown",
   "id": "1fe469d1-dd0a-46e5-a917-e80a6c4e8d74",
   "metadata": {},
   "source": [
    "*Get all permissions per project*"
   ]
  },
  {
   "cell_type": "code",
   "execution_count": null,
   "id": "cf896809-9848-40f5-aaf0-678971f96832",
   "metadata": {},
   "outputs": [],
   "source": [
    "df_permissions_prod = ts.get_all_server_permissions(server)"
   ]
  },
  {
   "attachments": {},
   "cell_type": "markdown",
   "id": "ba5e3620",
   "metadata": {},
   "source": [
    "*Adding some information to the DataFrame*"
   ]
  },
  {
   "cell_type": "code",
   "execution_count": null,
   "id": "04be8ab4-32af-4311-b8a6-6f802084331e",
   "metadata": {},
   "outputs": [],
   "source": [
    "df_permissions_prod['tableau_server_type'] = 'prod'\n",
    "df_permissions_prod['tableau_server_url'] = server_url_prod"
   ]
  },
  {
   "attachments": {},
   "cell_type": "markdown",
   "id": "e7432b24-83d0-4b31-8131-b714e6e4b42d",
   "metadata": {},
   "source": [
    "### Close Tableau production server connection"
   ]
  },
  {
   "cell_type": "code",
   "execution_count": null,
   "id": "3661d2e7-4b60-4d35-a4ce-b774039e7ad8",
   "metadata": {},
   "outputs": [],
   "source": [
    "ts.sign_out_from_server(server)"
   ]
  },
  {
   "attachments": {},
   "cell_type": "markdown",
   "id": "e04f65bf-7da2-4b3a-bdc3-1bb55e401cd7",
   "metadata": {},
   "source": [
    "### collect all user's & group's permissions from 2 servers"
   ]
  },
  {
   "attachments": {},
   "cell_type": "markdown",
   "id": "04d6bea9-985c-4d77-b70d-a8f5c81a6ea8",
   "metadata": {},
   "source": [
    "#### Appending DataFrames"
   ]
  },
  {
   "cell_type": "code",
   "execution_count": null,
   "id": "f3a39f7b-b16c-4c41-af4d-64e45a9ca48f",
   "metadata": {},
   "outputs": [],
   "source": [
    "df_all_permissions = df_permissions_dev.append(df_permissions_prod, ignore_index=True)"
   ]
  },
  {
   "cell_type": "code",
   "execution_count": null,
   "id": "29e02522-c524-4285-9cea-9927c8ba4534",
   "metadata": {},
   "outputs": [],
   "source": [
    "df_all_permissions['udate_date'] = date.today()"
   ]
  },
  {
   "cell_type": "code",
   "execution_count": null,
   "id": "0a763273-d62b-4c95-ae6a-7b01bc009f6f",
   "metadata": {},
   "outputs": [],
   "source": [
    "df_all_permissions.sample(15)"
   ]
  },
  {
   "attachments": {},
   "cell_type": "markdown",
   "id": "93243c2f-e32e-4611-b0b4-6ed81321ba82",
   "metadata": {},
   "source": [
    "### Store data to Excel and to SQL Server database"
   ]
  },
  {
   "attachments": {},
   "cell_type": "markdown",
   "id": "4b23a83e-e88a-4ed3-a989-b3dc20cb4bc2",
   "metadata": {},
   "source": [
    "*Write data to Excel*"
   ]
  },
  {
   "cell_type": "code",
   "execution_count": null,
   "id": "16afdc15-e2a9-40ab-a633-92f30bb8b410",
   "metadata": {},
   "outputs": [],
   "source": [
    "hg.write_to_excel(df_all_permissions, file_path_excel_permissions, sheet_name)"
   ]
  },
  {
   "attachments": {},
   "cell_type": "markdown",
   "id": "c3949597-e898-4084-a1ef-045876dc60b1",
   "metadata": {},
   "source": [
    "*Store data to SQL table*"
   ]
  },
  {
   "cell_type": "code",
   "execution_count": null,
   "id": "d8fbfe00-ec7f-4771-9b57-f263fd0f51be",
   "metadata": {},
   "outputs": [],
   "source": [
    "conn_str = f'mssql+pyodbc://{username}:{password}@{server_sql}/{database}?driver=ODBC+Driver+17+for+SQL+Server'\n",
    "engine = create_engine(conn_str)"
   ]
  },
  {
   "cell_type": "code",
   "execution_count": null,
   "id": "92ef868e-0020-4300-8b57-6080408cbf1c",
   "metadata": {},
   "outputs": [],
   "source": [
    "df_all_permissions.to_sql(table_permissions, con=engine, if_exists='replace', index=False, dtype={'user_permissions': types.JSON })"
   ]
  },
  {
   "attachments": {},
   "cell_type": "markdown",
   "id": "78a5dba7-ee2b-4159-97c9-6202d254ceec",
   "metadata": {},
   "source": [
    "*Confirm that data in the database*"
   ]
  },
  {
   "cell_type": "code",
   "execution_count": null,
   "id": "04f7192f-c128-480b-ab76-ad4a41b4f4bf",
   "metadata": {},
   "outputs": [],
   "source": [
    "df_all_permissions.shape"
   ]
  },
  {
   "cell_type": "code",
   "execution_count": null,
   "id": "9dc95247-80fc-49bd-b0e8-9c5588f7c098",
   "metadata": {},
   "outputs": [],
   "source": [
    "%%time\n",
    "\n",
    "query = f'SELECT COUNT (1) FROM {schema_ref}.{table_permissions}'\n",
    "_tmp = pd.read_sql(query, engine)\n",
    "_tmp"
   ]
  },
  {
   "cell_type": "code",
   "execution_count": null,
   "id": "3228ed2a-6542-4eef-839d-460f9ff9e66a",
   "metadata": {},
   "outputs": [],
   "source": [
    "query = f'SELECT TOP (5) * FROM {schema_ref}.{table_permissions}'\n",
    "_tmp = pd.read_sql(query, engine)\n",
    "_tmp"
   ]
  },
  {
   "cell_type": "code",
   "execution_count": null,
   "id": "e0829c3a-f6b3-4b83-96ce-4f0ace95808c",
   "metadata": {},
   "outputs": [],
   "source": []
  }
 ],
 "metadata": {
  "kernelspec": {
   "display_name": "Python 3 (ipykernel)",
   "language": "python",
   "name": "python3"
  },
  "language_info": {
   "codemirror_mode": {
    "name": "ipython",
    "version": 3
   },
   "file_extension": ".py",
   "mimetype": "text/x-python",
   "name": "python",
   "nbconvert_exporter": "python",
   "pygments_lexer": "ipython3",
   "version": "3.9.13"
  }
 },
 "nbformat": 4,
 "nbformat_minor": 5
}
